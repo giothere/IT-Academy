{
 "cells": [
  {
   "cell_type": "markdown",
   "id": "f995138b",
   "metadata": {},
   "source": [
    "# IT Academy - Data Science\n",
    "## S02 T03: Estructura de control\n",
    "\n",
    "### _Exercise 1_\n",
    "Create a program that rates a numeric variable based on the Suspended / Passed / Notable / Excellent evaluation scale."
   ]
  },
  {
   "cell_type": "code",
   "execution_count": 24,
   "id": "91c5bfef",
   "metadata": {},
   "outputs": [
    {
     "name": "stdout",
     "output_type": "stream",
     "text": [
      "Enter student mark: 6\n"
     ]
    },
    {
     "data": {
      "text/plain": [
       "'Student passed'"
      ]
     },
     "execution_count": 24,
     "metadata": {},
     "output_type": "execute_result"
    }
   ],
   "source": [
    "def giveEvaluation(mark):\n",
    "    if (mark < 5) & (mark >= 0):\n",
    "        evaluation = \"Student suspended\"\n",
    "    elif (mark < 7) & (mark >= 5):\n",
    "        evaluation = \"Student passed\"\n",
    "    elif (mark < 9) & (mark >= 7):\n",
    "        evaluation = \"Student was notable\"\n",
    "    elif (mark <= 10) & (mark >= 9):\n",
    "        evaluation = \"Student was excellent\"\n",
    "    else: evaluation = \"Mark not correct\"\n",
    "    return (evaluation)\n",
    "\n",
    "x = float(input(\"Enter student mark: \"))\n",
    "giveEvaluation(x)"
   ]
  },
  {
   "cell_type": "markdown",
   "id": "2ce10631",
   "metadata": {},
   "source": [
    "### _Exercise 2_\n",
    "Create a program that asks for two numbers. It should show a message saying if the first one is bigger, the second one is bigger or the same."
   ]
  },
  {
   "cell_type": "code",
   "execution_count": 26,
   "id": "255a39d3",
   "metadata": {},
   "outputs": [
    {
     "name": "stdout",
     "output_type": "stream",
     "text": [
      "Enter one number: 36.4\n",
      "Enter another number: 49\n",
      "49.0 is bigger than 36.4\n"
     ]
    }
   ],
   "source": [
    "def greaterNumber (num1, num2):\n",
    "    if (num1>num2): print (num1, \"is bigger than\", num2)\n",
    "    elif (num1<num2): print (num2, \"is bigger than\", num1)\n",
    "    else: print (\"Inputs entered are equal numbers.\")\n",
    "    \n",
    "    \n",
    "num1 = float(input(\"Enter one number: \"))\n",
    "num2 = float(input(\"Enter another number: \"))\n",
    "\n",
    "greaterNumber(num1, num2)"
   ]
  },
  {
   "cell_type": "markdown",
   "id": "8bac8680",
   "metadata": {},
   "source": [
    "### _Exercise 3_\n",
    "Create a program that asks for the name, and asks for a number. If the number is 0, it should display an error message. Otherwise, it should show the repeated name as many times as the number indicates. For example, “Joan Joan Joan”."
   ]
  },
  {
   "cell_type": "code",
   "execution_count": 27,
   "id": "3d67a7e1",
   "metadata": {},
   "outputs": [
    {
     "name": "stdout",
     "output_type": "stream",
     "text": [
      "Enter your name: Giorgia\n",
      "Enter one number: 4\n",
      "Your repeated name:\n",
      "Giorgia\n",
      "Giorgia\n",
      "Giorgia\n",
      "Giorgia\n"
     ]
    }
   ],
   "source": [
    "def repeatName (name, num):\n",
    "    if (num == 0): print(\"Input zero not valid.\")\n",
    "    else:\n",
    "        print(\"Your repeated name:\")\n",
    "        for x in range(num):\n",
    "            print(name)\n",
    "\n",
    "name = input(\"Enter your name: \")\n",
    "num = int(input(\"Enter one number: \"))\n",
    "\n",
    "repeatName (name, num)"
   ]
  },
  {
   "cell_type": "markdown",
   "id": "bbed43e0",
   "metadata": {},
   "source": [
    "### _Exercise 4_\n",
    "Create a program that, given any list, tells if it is symmetrical or not. If so, let me tell you how many items it has."
   ]
  },
  {
   "cell_type": "code",
   "execution_count": 28,
   "id": "72e44442",
   "metadata": {},
   "outputs": [],
   "source": [
    "def isSymmetric(mat, N):\n",
    "    for i in range(N):\n",
    "        for j in range(N):\n",
    "            if (mat[i][j] != mat[j][i]):\n",
    "                return False\n",
    "    return True\n"
   ]
  },
  {
   "cell_type": "code",
   "execution_count": 29,
   "id": "8c4f2916",
   "metadata": {},
   "outputs": [
    {
     "name": "stdout",
     "output_type": "stream",
     "text": [
      "The list is symmetric and it has 9 elements\n"
     ]
    }
   ],
   "source": [
    "# List with integers\n",
    "mylist1 = [ [ 1, 3, 5 ],\n",
    "            [ 3, 2, 4 ],\n",
    "            [ 5, 4, 1 ] ]\n",
    "\n",
    "# Get number of elements of list\n",
    "size = 1\n",
    "for dim in np.shape(mylist1): size *= dim\n",
    "\n",
    "# Check if list is symmetric \n",
    "if (isSymmetric(mylist1, 3)):\n",
    "    print(\"The list is symmetric and it has\",size, \"elements\")\n",
    "else:\n",
    "    print (\"The list is not symmetric.\")"
   ]
  },
  {
   "cell_type": "code",
   "execution_count": 30,
   "id": "e8f0271e",
   "metadata": {},
   "outputs": [
    {
     "name": "stdout",
     "output_type": "stream",
     "text": [
      "The list is symmetric and it has 9 elements\n"
     ]
    }
   ],
   "source": [
    "# List with strings\n",
    "mylist2 = ([[\"cat\", \"dog\", \"fish\"],\n",
    "              [\"dog\", \"dog\", \"fish\"],\n",
    "              [\"fish\", \"fish\", \"cat\"]])\n",
    "\n",
    "# Get number of elements of list\n",
    "size = 1\n",
    "for dim in np.shape(mylist1): size *= dim\n",
    "\n",
    "# Check if list is symmetric \n",
    "if (isSymmetric(mylist2, 3)):\n",
    "    print(\"The list is symmetric and it has\",size, \"elements\")\n",
    "else:\n",
    "    print (\"The list is not symmetric.\")"
   ]
  },
  {
   "cell_type": "code",
   "execution_count": 31,
   "id": "a7613899",
   "metadata": {},
   "outputs": [
    {
     "name": "stdout",
     "output_type": "stream",
     "text": [
      "The list is not symmetric.\n"
     ]
    }
   ],
   "source": [
    "# List not symmetric with integers\n",
    "mylist3 = [ [ 1, 8, 5 ],\n",
    "            [ 4, 4, 4 ],\n",
    "            [ 5, 4, 1 ] ]\n",
    "\n",
    "# Get number of elements of list\n",
    "size = 1\n",
    "for dim in np.shape(mylist3): size *= dim\n",
    "\n",
    "# Check if list is symmetric \n",
    "if (isSymmetric(mylist3, 3)):\n",
    "    print(\"The list is symmetric and it has\",size, \"elements\")\n",
    "else:\n",
    "    print (\"The list is not symmetric.\")"
   ]
  },
  {
   "cell_type": "markdown",
   "id": "931abb76",
   "metadata": {},
   "source": [
    "### _Exercise 5_\n",
    "Create a program that, given a list, tells you how many numbers match position. For example [3,4,2,0,2,3,6] 2 and 6 coincide."
   ]
  },
  {
   "cell_type": "code",
   "execution_count": 37,
   "id": "003266dc",
   "metadata": {},
   "outputs": [],
   "source": [
    "def valueIndex(v):\n",
    "    match = []\n",
    "    for i in range(len(v)):\n",
    "        if v[i] == i: match.append(i)\n",
    "    if len(match) == 0: print(\"No values match with index\")\n",
    "    else: print(\"Matches of values and indexes of the following numbers:\", match)"
   ]
  },
  {
   "cell_type": "code",
   "execution_count": 38,
   "id": "9b35d9e9",
   "metadata": {},
   "outputs": [
    {
     "name": "stdout",
     "output_type": "stream",
     "text": [
      "[3, 4, 2, 0, 2, 3, 6]\n",
      "Matches of values and indexes of the following numbers: [2, 6]\n"
     ]
    }
   ],
   "source": [
    "#list from example\n",
    "list1 = [3,4,2,0,2,3,6]\n",
    "print(list1)\n",
    "\n",
    "#check if values of the list coincide with index of the list\n",
    "valueIndex(list1)"
   ]
  },
  {
   "cell_type": "code",
   "execution_count": 39,
   "id": "cd0f55a5",
   "metadata": {},
   "outputs": [
    {
     "name": "stdout",
     "output_type": "stream",
     "text": [
      "[5, 4, 1, 8, 5, 9, 4, 7, 5, 3]\n"
     ]
    }
   ],
   "source": [
    "#import numpy library\n",
    "import numpy as np\n",
    "\n",
    "#create random array of 10 elements, with range from 1 to 10\n",
    "a = np.random.randint(1, 10, 10)\n",
    "list2 = a.tolist()\n",
    "print (list2)"
   ]
  },
  {
   "cell_type": "code",
   "execution_count": 40,
   "id": "d2f2c18e",
   "metadata": {},
   "outputs": [
    {
     "name": "stdout",
     "output_type": "stream",
     "text": [
      "Matches of values and indexes of the following numbers: [7]\n"
     ]
    }
   ],
   "source": [
    "#check if values of the list coincide with index of the list\n",
    "valueIndex(list2)"
   ]
  }
 ],
 "metadata": {
  "kernelspec": {
   "display_name": "Python 3 (ipykernel)",
   "language": "python",
   "name": "python3"
  },
  "language_info": {
   "codemirror_mode": {
    "name": "ipython",
    "version": 3
   },
   "file_extension": ".py",
   "mimetype": "text/x-python",
   "name": "python",
   "nbconvert_exporter": "python",
   "pygments_lexer": "ipython3",
   "version": "3.9.12"
  },
  "varInspector": {
   "cols": {
    "lenName": 16,
    "lenType": 16,
    "lenVar": 40
   },
   "kernels_config": {
    "python": {
     "delete_cmd_postfix": "",
     "delete_cmd_prefix": "del ",
     "library": "var_list.py",
     "varRefreshCmd": "print(var_dic_list())"
    },
    "r": {
     "delete_cmd_postfix": ") ",
     "delete_cmd_prefix": "rm(",
     "library": "var_list.r",
     "varRefreshCmd": "cat(var_dic_list()) "
    }
   },
   "types_to_exclude": [
    "module",
    "function",
    "builtin_function_or_method",
    "instance",
    "_Feature"
   ],
   "window_display": false
  }
 },
 "nbformat": 4,
 "nbformat_minor": 5
}
