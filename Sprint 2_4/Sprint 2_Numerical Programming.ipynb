{
 "cells": [
  {
   "cell_type": "markdown",
   "id": "64f05c33",
   "metadata": {},
   "source": [
    "# IT Academy - Data Science\n",
    "## S02 T04: Estructura de dades\n",
    "\n",
    "### _Exercise 1_\n",
    "\n",
    "Create a function that, given a one-dimensional array, gives you a basic statistical summary of the data. If it detects that the array is larger than one dimension, it should display an error message."
   ]
  },
  {
   "cell_type": "code",
   "execution_count": 1,
   "id": "3a79ed01",
   "metadata": {},
   "outputs": [],
   "source": [
    "#import requested library\n",
    "import numpy as np\n",
    "\n",
    "#create function\n",
    "def statistics(a):\n",
    "    if a.ndim == 1:\n",
    "        print (\"The mean of the array is:\", np.mean(a))\n",
    "        print (\"The median of the array is:\", np.median(a))\n",
    "        print (\"The standard deviation of the array is:\", np.std(a, dtype='f2'))\n",
    "        print (\"The variance of the array is:\", np.var(a, dtype='f2'))\n",
    "    else: print(\"Dimensions of array exceed 1.\")"
   ]
  },
  {
   "cell_type": "code",
   "execution_count": 2,
   "id": "f316acef",
   "metadata": {},
   "outputs": [
    {
     "name": "stdout",
     "output_type": "stream",
     "text": [
      "Random array: [34 43 55 54 88 54 14 89 22 47]\n",
      "The mean of the array is: 50.0\n",
      "The median of the array is: 50.5\n",
      "The standard deviation of the array is: 23.27\n",
      "The variance of the array is: 541.5\n"
     ]
    }
   ],
   "source": [
    "#create random array of 10 elements, with values between [0,100]\n",
    "arr1 = np.random.randint(1, 100, 10)\n",
    "print(\"Random array:\", arr1)\n",
    "\n",
    "#call function\n",
    "statistics(arr1)"
   ]
  },
  {
   "cell_type": "code",
   "execution_count": 4,
   "id": "5d194fd3",
   "metadata": {},
   "outputs": [
    {
     "name": "stdout",
     "output_type": "stream",
     "text": [
      "Random array:\n",
      " [[0.4028788  0.49463848]\n",
      " [0.52184416 0.35650548]\n",
      " [0.64412505 0.56134421]\n",
      " [0.21950207 0.03413224]]\n",
      "Dimensions of array exceed 1.\n"
     ]
    }
   ],
   "source": [
    "#create random array 2D\n",
    "arr2 = np.random.random((4,2))\n",
    "print(\"Random array:\\n\", arr2)\n",
    "#calculate statistics: error message.\n",
    "statistics(arr2)"
   ]
  },
  {
   "cell_type": "markdown",
   "id": "025952eb",
   "metadata": {},
   "source": [
    "### _Exercise 2_\n",
    "Create a function that generates an NxN square matrix of random numbers between 0 and 100."
   ]
  },
  {
   "cell_type": "code",
   "execution_count": 10,
   "id": "7315ee08",
   "metadata": {},
   "outputs": [
    {
     "name": "stdout",
     "output_type": "stream",
     "text": [
      "The square matrix of size 8 :\n",
      " [[23 45 65  4 42 41 18 92]\n",
      " [10 23 77 78 62 57  9 24]\n",
      " [31 64  8 87 10 21 51 13]\n",
      " [ 3 84 92 63 33 56 54 59]\n",
      " [ 1 16 41 48 96 25 26 17]\n",
      " [28 99 15 54 13 78 52  3]\n",
      " [56 68  5  2 55 63 21 60]\n",
      " [69  5 33 49 80 42 86 27]]\n"
     ]
    }
   ],
   "source": [
    "#create function\n",
    "def squareMatrix ():\n",
    "    #random int to generate dimension of square matrix with values between [1,20]\n",
    "    n = np.random.randint(1, 20)\n",
    "    #random square matrix of dimension NxN with values between [0,100]\n",
    "    a = np.random.randint(0, 100, size=(n,n))\n",
    "    print (\"The square matrix of size\",n,\":\\n\", a)\n",
    "\n",
    "#call function\n",
    "squareMatrix()"
   ]
  },
  {
   "cell_type": "markdown",
   "id": "cdc6d708",
   "metadata": {},
   "source": [
    "### _Exercise 3_\n",
    "Create a function that, given a two-dimensional table, calculates the totals per row and the totals per column."
   ]
  },
  {
   "cell_type": "code",
   "execution_count": 12,
   "id": "c46051d1",
   "metadata": {},
   "outputs": [],
   "source": [
    "#create function \n",
    "def totalAxis (a):\n",
    "    print(\"The column sum of array is:\", np.sum(a, axis = 0))\n",
    "    print(\"The row sum of array is:\\n\", np.sum(a, axis = 1).reshape(n,1))"
   ]
  },
  {
   "cell_type": "code",
   "execution_count": 14,
   "id": "3429d916",
   "metadata": {},
   "outputs": [
    {
     "name": "stdout",
     "output_type": "stream",
     "text": [
      "[[56 35  7 50 92]\n",
      " [53 90 47 54  1]\n",
      " [40 51 60 65  4]\n",
      " [ 4 90 48 41 62]\n",
      " [ 4 76 30 67 97]\n",
      " [86 15 99 90 28]]\n"
     ]
    }
   ],
   "source": [
    "#random int to generate dimensions of  matrix NxM with values between [1,10]\n",
    "n = np.random.randint(1, 10)\n",
    "m = np.random.randint(1, 10)\n",
    "\n",
    "#random square matrix of dimension NxM with values between [0,100]\n",
    "arr3 = np.random.randint(0, 100, size=(n,m))\n",
    "print(arr3)"
   ]
  },
  {
   "cell_type": "code",
   "execution_count": 15,
   "id": "b608fb2a",
   "metadata": {},
   "outputs": [
    {
     "name": "stdout",
     "output_type": "stream",
     "text": [
      "The column sum of array is: [243 357 291 367 284]\n",
      "The row sum of array is:\n",
      " [[240]\n",
      " [245]\n",
      " [220]\n",
      " [245]\n",
      " [274]\n",
      " [318]]\n"
     ]
    }
   ],
   "source": [
    "#call function\n",
    "totalAxis(arr3)"
   ]
  },
  {
   "cell_type": "markdown",
   "id": "f11b1177",
   "metadata": {},
   "source": [
    "### _Exercise 4_\n",
    "Manually implements a function that calculates the correlation coefficient. Learn about its uses and interpretation."
   ]
  },
  {
   "cell_type": "code",
   "execution_count": 20,
   "id": "a5c81cd0",
   "metadata": {},
   "outputs": [],
   "source": [
    "import math\n",
    "\n",
    "def pearson_def(x, y):\n",
    "    assert len(x) == len(y)\n",
    "    n = len(x)\n",
    "    assert n > 0\n",
    "    avg_x = np.mean(x)\n",
    "    avg_y = np.mean(y)\n",
    "    diffprod = 0\n",
    "    xdiff2 = 0\n",
    "    ydiff2 = 0\n",
    "    for idx in range(n):\n",
    "        xdiff = x[idx] - avg_x\n",
    "        ydiff = y[idx] - avg_y\n",
    "        diffprod += xdiff * ydiff\n",
    "        xdiff2 += xdiff * xdiff\n",
    "        ydiff2 += ydiff * ydiff\n",
    "\n",
    "    return np.array(diffprod / math.sqrt(xdiff2 * ydiff2), dtype='f2')"
   ]
  },
  {
   "cell_type": "code",
   "execution_count": 21,
   "id": "279dc1a6",
   "metadata": {},
   "outputs": [],
   "source": [
    "#random int to generate dimension of  matrix Nx1 with values between [1,10]\n",
    "n = np.random.randint(1, 10)\n",
    "#random square matrix of dimension Nx1 with values between [0,100]\n",
    "arr4 = np.random.rand(n)\n",
    "arr5 = np.random.rand(n)"
   ]
  },
  {
   "cell_type": "code",
   "execution_count": 26,
   "id": "d89dc6b4",
   "metadata": {},
   "outputs": [
    {
     "name": "stdout",
     "output_type": "stream",
     "text": [
      "The correlation coefficient is: -0.348\n"
     ]
    }
   ],
   "source": [
    "#call function \n",
    "print(\"The correlation coefficient is:\",pearson_def(arr4, arr5))"
   ]
  },
  {
   "cell_type": "code",
   "execution_count": 29,
   "id": "823d14d3",
   "metadata": {},
   "outputs": [
    {
     "name": "stdout",
     "output_type": "stream",
     "text": [
      "-0.348\n"
     ]
    }
   ],
   "source": [
    "#check result with in-built function of python\n",
    "corrcoeff = np.array(np.corrcoef([arr4, arr5]),dtype='f2')\n",
    "print(corrcoeff[0,1])"
   ]
  }
 ],
 "metadata": {
  "kernelspec": {
   "display_name": "Python 3 (ipykernel)",
   "language": "python",
   "name": "python3"
  },
  "language_info": {
   "codemirror_mode": {
    "name": "ipython",
    "version": 3
   },
   "file_extension": ".py",
   "mimetype": "text/x-python",
   "name": "python",
   "nbconvert_exporter": "python",
   "pygments_lexer": "ipython3",
   "version": "3.9.12"
  },
  "varInspector": {
   "cols": {
    "lenName": 16,
    "lenType": 16,
    "lenVar": 40
   },
   "kernels_config": {
    "python": {
     "delete_cmd_postfix": "",
     "delete_cmd_prefix": "del ",
     "library": "var_list.py",
     "varRefreshCmd": "print(var_dic_list())"
    },
    "r": {
     "delete_cmd_postfix": ") ",
     "delete_cmd_prefix": "rm(",
     "library": "var_list.r",
     "varRefreshCmd": "cat(var_dic_list()) "
    }
   },
   "types_to_exclude": [
    "module",
    "function",
    "builtin_function_or_method",
    "instance",
    "_Feature"
   ],
   "window_display": false
  }
 },
 "nbformat": 4,
 "nbformat_minor": 5
}
