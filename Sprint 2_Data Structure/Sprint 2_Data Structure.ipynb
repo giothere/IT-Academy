{
 "cells": [
  {
   "cell_type": "markdown",
   "id": "71d0d8c6",
   "metadata": {},
   "source": [
    "# IT Academy - Data Science\n",
    "## S02 T01: Estructura de dades\n",
    "\n",
    "### _Exercise 1_\n",
    "\n",
    "Create a list that groups the months of the year into quarters (Q1: January, February and March, Q2: April, May, June ...), that is, a list with 4 lists inside."
   ]
  },
  {
   "cell_type": "code",
   "execution_count": 30,
   "id": "6bcd7ace",
   "metadata": {},
   "outputs": [
    {
     "name": "stdout",
     "output_type": "stream",
     "text": [
      "January\n",
      "February\n",
      "March\n",
      "April\n",
      "May\n",
      "June\n",
      "July\n",
      "August\n",
      "September\n",
      "October\n",
      "November\n",
      "December\n"
     ]
    }
   ],
   "source": [
    "quarter1 = [\"January\", \"February\", \"March\"]\n",
    "quarter2 = [\"April\", \"May\", \"June\"]\n",
    "quarter3 = [\"July\", \"August\", \"September\"]\n",
    "quarter4 = [\"October\", \"November\", \"December\"]\n",
    "yearByQuarters = quarter1 + quarter2 + quarter3 +quarter4\n",
    "\n",
    "for x in yearByQuarters:\n",
    "  print(x)"
   ]
  },
  {
   "cell_type": "markdown",
   "id": "4a849882",
   "metadata": {},
   "source": [
    "### _Exercise 2_\n",
    "\n",
    "Create a code that accesses to:\n",
    "  - The second month of the first quarter"
   ]
  },
  {
   "cell_type": "code",
   "execution_count": 6,
   "id": "dbf5a482",
   "metadata": {},
   "outputs": [
    {
     "name": "stdout",
     "output_type": "stream",
     "text": [
      "February\n"
     ]
    }
   ],
   "source": [
    "print(quarter1[1])"
   ]
  },
  {
   "cell_type": "markdown",
   "id": "0a8a981e",
   "metadata": {},
   "source": [
    "  - The months of the first quarter"
   ]
  },
  {
   "cell_type": "code",
   "execution_count": 31,
   "id": "979bd0ae",
   "metadata": {},
   "outputs": [
    {
     "name": "stdout",
     "output_type": "stream",
     "text": [
      "January\n",
      "February\n",
      "March\n"
     ]
    }
   ],
   "source": [
    "for x in quarter1:\n",
    "  print(x)\n"
   ]
  },
  {
   "cell_type": "markdown",
   "id": "a48f6efc",
   "metadata": {},
   "source": [
    "  - September and October"
   ]
  },
  {
   "cell_type": "code",
   "execution_count": 32,
   "id": "35e5d610",
   "metadata": {},
   "outputs": [
    {
     "name": "stdout",
     "output_type": "stream",
     "text": [
      "September\n",
      "October\n"
     ]
    }
   ],
   "source": [
    "for x in yearByQuarters[8:10]:\n",
    "  print(x)"
   ]
  },
  {
   "cell_type": "markdown",
   "id": "5a44e820",
   "metadata": {},
   "source": [
    "### _Exercise 3_\n",
    "\n",
    "Create a list of unordered numbers"
   ]
  },
  {
   "cell_type": "code",
   "execution_count": 33,
   "id": "d4295f6a",
   "metadata": {},
   "outputs": [
    {
     "name": "stdout",
     "output_type": "stream",
     "text": [
      "[3, 4, 3, 1, 5, 9, 6, 9, 4, 6]\n"
     ]
    }
   ],
   "source": [
    "#import numpy library\n",
    "import numpy as np\n",
    "\n",
    "#create random array of 10 elements, with range from 1 to 10\n",
    "a = np.random.randint(1, 10, 10)\n",
    "mylist = a.tolist()\n",
    "print (mylist)"
   ]
  },
  {
   "cell_type": "markdown",
   "id": "1e3f1f24",
   "metadata": {},
   "source": [
    "and answer the following questions\n",
    " - How many numbers are in the list?"
   ]
  },
  {
   "cell_type": "code",
   "execution_count": 34,
   "id": "f05e33ea",
   "metadata": {},
   "outputs": [
    {
     "name": "stdout",
     "output_type": "stream",
     "text": [
      "This list has 10 elements.\n"
     ]
    }
   ],
   "source": [
    "print(\"This list has\", len(mylist), \"elements.\")"
   ]
  },
  {
   "cell_type": "markdown",
   "id": "2e9ef33a",
   "metadata": {},
   "source": [
    " - How often does number 3 appear?"
   ]
  },
  {
   "cell_type": "code",
   "execution_count": 35,
   "id": "65f76bf8",
   "metadata": {},
   "outputs": [
    {
     "name": "stdout",
     "output_type": "stream",
     "text": [
      "Number 3 counts 2 times.\n"
     ]
    }
   ],
   "source": [
    "print(\"Number 3 counts\", mylist.count(3), \"times.\")"
   ]
  },
  {
   "cell_type": "markdown",
   "id": "aa182bb4",
   "metadata": {},
   "source": [
    " - How often do numbers 3 and 4 appear?"
   ]
  },
  {
   "cell_type": "code",
   "execution_count": 36,
   "id": "ba2a98f8",
   "metadata": {},
   "outputs": [
    {
     "name": "stdout",
     "output_type": "stream",
     "text": [
      "Number 3 and 4 count 4 times.\n"
     ]
    }
   ],
   "source": [
    "print(\"Number 3 and 4 count\", mylist.count(3)+mylist.count(4), \"times.\")"
   ]
  },
  {
   "cell_type": "markdown",
   "id": "42b915ae",
   "metadata": {},
   "source": [
    " - What is the largest number?"
   ]
  },
  {
   "cell_type": "code",
   "execution_count": 37,
   "id": "67610512",
   "metadata": {},
   "outputs": [
    {
     "name": "stdout",
     "output_type": "stream",
     "text": [
      "Number 9 is the largest of this list.\n"
     ]
    }
   ],
   "source": [
    "print(\"Number\", max(mylist), \"is the largest of this list.\")"
   ]
  },
  {
   "cell_type": "markdown",
   "id": "bb97efc9",
   "metadata": {},
   "source": [
    "- What are the 3 smallest numbers?"
   ]
  },
  {
   "cell_type": "code",
   "execution_count": 38,
   "id": "d23b0963",
   "metadata": {},
   "outputs": [
    {
     "name": "stdout",
     "output_type": "stream",
     "text": [
      "Three smallest elements of this list are: 1 3 4\n"
     ]
    }
   ],
   "source": [
    "mylist.sort()\n",
    "uniquesElements = list(set(mylist))\n",
    "print(\"Three smallest elements of this list are:\", *uniquesElements[:3])"
   ]
  },
  {
   "cell_type": "markdown",
   "id": "3ec122bf",
   "metadata": {},
   "source": [
    "- What is the range of this list?"
   ]
  },
  {
   "cell_type": "code",
   "execution_count": 39,
   "id": "777e4f7f",
   "metadata": {},
   "outputs": [
    {
     "name": "stdout",
     "output_type": "stream",
     "text": [
      "The range of this list is: 8\n"
     ]
    }
   ],
   "source": [
    "print(\"The range of this list is:\", max(mylist)-min(mylist))"
   ]
  },
  {
   "cell_type": "markdown",
   "id": "5a3ccf05",
   "metadata": {},
   "source": [
    "### _Exercise 4_\n",
    "\n",
    "Create a dictionary as follows:"
   ]
  },
  {
   "cell_type": "code",
   "execution_count": 40,
   "id": "9148f1fa",
   "metadata": {},
   "outputs": [],
   "source": [
    "compra = { \"Pomes\" : {\"Qty\": 5, \"€\": 0.42}, \"Peres\" : {\"Qty\": 3, \"€\": 0.66} }"
   ]
  },
  {
   "cell_type": "markdown",
   "id": "04c14b47",
   "metadata": {},
   "source": [
    "and answer the questions:\n",
    " - Add more fruits"
   ]
  },
  {
   "cell_type": "code",
   "execution_count": 41,
   "id": "0b891b2e",
   "metadata": {},
   "outputs": [
    {
     "name": "stdout",
     "output_type": "stream",
     "text": [
      "Shopping list: {'Pomes': {'Qty': 5, '€': 0.42}, 'Peres': {'Qty': 3, '€': 0.66}, 'Kiwis': {'Qty': 3, '€': 0.89}, 'Bananas': {'Qty': 6, '€': 0.51}}\n"
     ]
    }
   ],
   "source": [
    "compra.update({\"Kiwis\" : {\"Qty\": 3, \"€\": 0.89}})\n",
    "compra.update({\"Bananas\" : {\"Qty\": 6, \"€\": 0.51}})\n",
    "print(\"Shopping list:\", compra)"
   ]
  },
  {
   "cell_type": "markdown",
   "id": "41c00b21",
   "metadata": {},
   "source": [
    " - How much did the pears cost in total?"
   ]
  },
  {
   "cell_type": "code",
   "execution_count": 42,
   "id": "2f9f45c4",
   "metadata": {},
   "outputs": [
    {
     "name": "stdout",
     "output_type": "stream",
     "text": [
      "Total cost of pears in euro is: 1.98\n"
     ]
    }
   ],
   "source": [
    "# cost of pears: number of pears * unit price\n",
    "pearPrice = compra[\"Peres\"][\"Qty\"] * compra[\"Peres\"][\"€\"]\n",
    "print(\"Total cost of pears in euro is:\", pearPrice)"
   ]
  },
  {
   "cell_type": "markdown",
   "id": "ad118db2",
   "metadata": {},
   "source": [
    " - How many fruits did we buy in total?"
   ]
  },
  {
   "cell_type": "code",
   "execution_count": 43,
   "id": "f2e40d67",
   "metadata": {},
   "outputs": [
    {
     "name": "stdout",
     "output_type": "stream",
     "text": [
      "Total fruits bought: 17\n"
     ]
    }
   ],
   "source": [
    "fruits = 0\n",
    "for x in compra.keys():\n",
    "    fruits  += compra[x][\"Qty\"]\n",
    "print(\"Total fruits bought:\",fruits)"
   ]
  },
  {
   "cell_type": "markdown",
   "id": "6946e303",
   "metadata": {},
   "source": [
    " - What is the most expensive fruit?"
   ]
  },
  {
   "cell_type": "code",
   "execution_count": 44,
   "id": "13f51a83",
   "metadata": {},
   "outputs": [
    {
     "name": "stdout",
     "output_type": "stream",
     "text": [
      "Unit price of fruits: {'Pomes': 0.42, 'Peres': 0.66, 'Kiwis': 0.89, 'Bananas': 0.51}\n",
      "Fruit with highest price per piece: Kiwis\n"
     ]
    }
   ],
   "source": [
    "#create dictonary of fruits and prices\n",
    "fruitPrice = {}\n",
    "for x, value in compra.items():\n",
    "    fruitPrice[x] = value['€']\n",
    "print(\"Unit price of fruits:\", fruitPrice)\n",
    "\n",
    "#get maximum value of unit prices\n",
    "maxFruitCost = max(fruitPrice.values())\n",
    "\n",
    "#create list of fruits and prices\n",
    "fruits = list(fruitPrice.keys())\n",
    "prices = list(fruitPrice.values())\n",
    "\n",
    "#index highest price from list prices to match with index of fruits\n",
    "i = prices.index(maxFruitCost)\n",
    "print(\"Fruit with highest price per piece: {}\".format(fruits[i]))"
   ]
  }
 ],
 "metadata": {
  "kernelspec": {
   "display_name": "Python 3 (ipykernel)",
   "language": "python",
   "name": "python3"
  },
  "language_info": {
   "codemirror_mode": {
    "name": "ipython",
    "version": 3
   },
   "file_extension": ".py",
   "mimetype": "text/x-python",
   "name": "python",
   "nbconvert_exporter": "python",
   "pygments_lexer": "ipython3",
   "version": "3.9.12"
  },
  "varInspector": {
   "cols": {
    "lenName": 16,
    "lenType": 16,
    "lenVar": 40
   },
   "kernels_config": {
    "python": {
     "delete_cmd_postfix": "",
     "delete_cmd_prefix": "del ",
     "library": "var_list.py",
     "varRefreshCmd": "print(var_dic_list())"
    },
    "r": {
     "delete_cmd_postfix": ") ",
     "delete_cmd_prefix": "rm(",
     "library": "var_list.r",
     "varRefreshCmd": "cat(var_dic_list()) "
    }
   },
   "types_to_exclude": [
    "module",
    "function",
    "builtin_function_or_method",
    "instance",
    "_Feature"
   ],
   "window_display": false
  }
 },
 "nbformat": 4,
 "nbformat_minor": 5
}
