{
 "cells": [
  {
   "cell_type": "markdown",
   "id": "a52811e9",
   "metadata": {},
   "source": [
    "# IT Academy - Data Science\n",
    "## S02 T02: Estructura d'una Matriu\n",
    "\n",
    "### Level 1\n",
    "### _Exercise 1_\n",
    "Create a one-dimensional np.array, including at least 8 integers, data type int64. Displays the dimension and shape of the array."
   ]
  },
  {
   "cell_type": "code",
   "execution_count": 26,
   "id": "23ba564f-9711-4b6c-935c-3c4616ff1514",
   "metadata": {},
   "outputs": [
    {
     "name": "stdout",
     "output_type": "stream",
     "text": [
      "[[35 40  3  0 37 27 99 40  4 76 71 96  4 46 66]]\n"
     ]
    }
   ],
   "source": [
    "#import numpy library\n",
    "import numpy as np\n",
    "\n",
    "#create random column vector with 15 rows that takes values up to 100\n",
    "arr1 = np.random.randint(100, size=(1,15), dtype=\"int64\")\n",
    "print(arr1)"
   ]
  },
  {
   "cell_type": "code",
   "execution_count": 27,
   "id": "bf39bc2b",
   "metadata": {},
   "outputs": [
    {
     "name": "stdout",
     "output_type": "stream",
     "text": [
      "2\n"
     ]
    }
   ],
   "source": [
    "#display dimension\n",
    "print(arr1.ndim)"
   ]
  },
  {
   "cell_type": "code",
   "execution_count": 28,
   "id": "da878de7",
   "metadata": {},
   "outputs": [
    {
     "name": "stdout",
     "output_type": "stream",
     "text": [
      "(1, 15)\n"
     ]
    }
   ],
   "source": [
    "#display shape\n",
    "print(arr1.shape)"
   ]
  },
  {
   "cell_type": "markdown",
   "id": "7595ffb5",
   "metadata": {},
   "source": [
    "### _Exercise 2_\n",
    "From the matrix in Exercise 1, calculate the average of the values entered"
   ]
  },
  {
   "cell_type": "code",
   "execution_count": 47,
   "id": "e20bdf92",
   "metadata": {},
   "outputs": [
    {
     "name": "stdout",
     "output_type": "stream",
     "text": [
      "42.94\n"
     ]
    }
   ],
   "source": [
    "#calculate average of elements of the array\n",
    "print(np.array(np.mean(arr1), dtype='f2'))"
   ]
  },
  {
   "cell_type": "markdown",
   "id": "921a95a6",
   "metadata": {},
   "source": [
    "### _Exercise 3_\n",
    "Create a two-dimensional array with a shape of 5 x 5."
   ]
  },
  {
   "cell_type": "code",
   "execution_count": 37,
   "id": "17d9fec3",
   "metadata": {},
   "outputs": [
    {
     "name": "stdout",
     "output_type": "stream",
     "text": [
      "[[89 70 20 41  0]\n",
      " [15 86 95 10 54]\n",
      " [67 80 18 16 96]\n",
      " [30 68 91 31 42]\n",
      " [83 88 65 34 96]]\n"
     ]
    }
   ],
   "source": [
    "#create a random 2D square matrix (5 rows and 5 columns)\n",
    "arr2 = np.random.randint(100, size=(5,5))\n",
    "print(arr2)"
   ]
  },
  {
   "cell_type": "markdown",
   "id": "ed838ff9",
   "metadata": {},
   "source": [
    "Extract the maximum value of the array."
   ]
  },
  {
   "cell_type": "code",
   "execution_count": 38,
   "id": "7c5f11aa",
   "metadata": {},
   "outputs": [
    {
     "name": "stdout",
     "output_type": "stream",
     "text": [
      "96\n"
     ]
    }
   ],
   "source": [
    "#maximum value of the array\n",
    "print(np.amax(arr2))"
   ]
  },
  {
   "cell_type": "markdown",
   "id": "b4d52060",
   "metadata": {},
   "source": [
    "Extract the maximum values of each of its axes."
   ]
  },
  {
   "cell_type": "code",
   "execution_count": 39,
   "id": "4d119e26",
   "metadata": {},
   "outputs": [
    {
     "name": "stdout",
     "output_type": "stream",
     "text": [
      "Maximum values of the array along axis=0 is: [89 88 95 41 96]\n",
      "Maximum values of the array along axis=1 is: [89 95 96 91 96]\n"
     ]
    }
   ],
   "source": [
    "#find maximum value along axis = 0\n",
    "arr2_max0 = np.amax(arr2, axis = 0)\n",
    "print('Maximum values of the array along axis=0 is:', arr2_max0)\n",
    "#find maximum value along axis=1\n",
    "arr2_max1 = np.amax(arr2, axis=1)\n",
    "print('Maximum values of the array along axis=1 is:', arr2_max1)"
   ]
  },
  {
   "cell_type": "markdown",
   "id": "cdcdebdd",
   "metadata": {},
   "source": [
    "### Level 2\n",
    "### _Exercise 4_\n",
    "Show with examples of different arrays, the Broadcasting rule of thumb: \"Arrays can be broadcast if their dimensions match or if one of the arrays has a size of 1.\""
   ]
  },
  {
   "cell_type": "code",
   "execution_count": 42,
   "id": "80586231",
   "metadata": {},
   "outputs": [
    {
     "name": "stdout",
     "output_type": "stream",
     "text": [
      "[[132 113 122  40]\n",
      " [ 83 128  78  98]\n",
      " [ 73 155 102 111]\n",
      " [113 163  43  72]]\n"
     ]
    }
   ],
   "source": [
    "#show the broadcasting rule with matrixes of same dimension\n",
    "arr3 = np.random.randint(100, size=(4,4))\n",
    "arr4 = np.random.randint(100, size=(4,4))\n",
    "\n",
    "print (arr3 + arr4)"
   ]
  },
  {
   "cell_type": "code",
   "execution_count": 43,
   "id": "86180be3",
   "metadata": {},
   "outputs": [
    {
     "name": "stdout",
     "output_type": "stream",
     "text": [
      "[[6279 3549 6279 1911]\n",
      " [1288 7544 3312 4508]\n",
      " [2926 5005 1925 2310]\n",
      " [7161 7626 3627 1395]]\n"
     ]
    }
   ],
   "source": [
    "#show the broadcasting rule with one matrix and one column vector with same number of rows\n",
    "arr5 = np.random.randint(100, size=(4,1))\n",
    "\n",
    "print(arr3 * arr5)"
   ]
  },
  {
   "cell_type": "code",
   "execution_count": 44,
   "id": "fc0c22a6",
   "metadata": {},
   "outputs": [
    {
     "name": "stdout",
     "output_type": "stream",
     "text": [
      "[[1.15   0.65   1.15   0.35  ]\n",
      " [0.2333 1.366  0.6    0.817 ]\n",
      " [0.6333 1.083  0.4167 0.5   ]\n",
      " [1.283  1.366  0.65   0.25  ]]\n"
     ]
    }
   ],
   "source": [
    "#show the broadcasting rule with one matrix and one scalar\n",
    "x = np.random.randint(100)\n",
    "\n",
    "print(np.array(arr3/x, dtype='f2'))"
   ]
  },
  {
   "cell_type": "markdown",
   "id": "9b2a44fa",
   "metadata": {},
   "source": [
    "### _Exercise 5_\n",
    "Use Indexing to extract the values of a column and a row from the array."
   ]
  },
  {
   "cell_type": "code",
   "execution_count": 48,
   "id": "a9423295",
   "metadata": {},
   "outputs": [
    {
     "name": "stdout",
     "output_type": "stream",
     "text": [
      "[[69 39 69 21]\n",
      " [14 82 36 49]\n",
      " [38 65 25 30]\n",
      " [77 82 39 15]]\n"
     ]
    }
   ],
   "source": [
    "#show array\n",
    "print(arr3)"
   ]
  },
  {
   "cell_type": "code",
   "execution_count": 49,
   "id": "3907f973",
   "metadata": {},
   "outputs": [
    {
     "name": "stdout",
     "output_type": "stream",
     "text": [
      "[69 36 25 39]\n"
     ]
    }
   ],
   "source": [
    "#show elements of column 3\n",
    "y = arr3[:, 2]\n",
    "print(y)"
   ]
  },
  {
   "cell_type": "code",
   "execution_count": 50,
   "id": "2c06f7d2",
   "metadata": {},
   "outputs": [
    {
     "name": "stdout",
     "output_type": "stream",
     "text": [
      "[77 82 39 15]\n"
     ]
    }
   ],
   "source": [
    "#show elements of row 4\n",
    "z = arr3[3, :]\n",
    "print(z)"
   ]
  },
  {
   "cell_type": "markdown",
   "id": "a53cc2e0",
   "metadata": {},
   "source": [
    "And add up their values."
   ]
  },
  {
   "cell_type": "code",
   "execution_count": 51,
   "id": "5c23d44d",
   "metadata": {},
   "outputs": [
    {
     "name": "stdout",
     "output_type": "stream",
     "text": [
      "[146 118  64  54]\n"
     ]
    }
   ],
   "source": [
    "#sum by elements of column and row selected\n",
    "print(y+z)"
   ]
  },
  {
   "cell_type": "markdown",
   "id": "137a4f67",
   "metadata": {},
   "source": [
    "### _Exercise 6_\n",
    "Mask the above matrix, perform a vectorized Boolean calculation, taking each element and checking if it is evenly divided by four.\n",
    "\n",
    "This returns a mask array in the same way as the elementary results of the calculation."
   ]
  },
  {
   "cell_type": "code",
   "execution_count": 52,
   "id": "50ac7d5b",
   "metadata": {},
   "outputs": [
    {
     "name": "stdout",
     "output_type": "stream",
     "text": [
      "[[69 39 69 21]\n",
      " [14 82 36 49]\n",
      " [38 65 25 30]\n",
      " [77 82 39 15]]\n"
     ]
    }
   ],
   "source": [
    "#show array\n",
    "print(arr3)"
   ]
  },
  {
   "cell_type": "code",
   "execution_count": 53,
   "id": "efdbab95",
   "metadata": {},
   "outputs": [
    {
     "name": "stdout",
     "output_type": "stream",
     "text": [
      "[[False False False False]\n",
      " [False False  True False]\n",
      " [False False False False]\n",
      " [False False False False]]\n"
     ]
    }
   ],
   "source": [
    "mask = (arr3 % 4 == 0)\n",
    "print(mask)"
   ]
  },
  {
   "cell_type": "markdown",
   "id": "9fb124f6",
   "metadata": {},
   "source": [
    "### _Exercise 7_\n",
    "Then use this mask to index the original number array. This causes the array to lose its original shape, reducing it to one dimension, but you still get the data you are looking for."
   ]
  },
  {
   "cell_type": "code",
   "execution_count": 54,
   "id": "cea59a1e",
   "metadata": {},
   "outputs": [
    {
     "name": "stdout",
     "output_type": "stream",
     "text": [
      "[36]\n"
     ]
    }
   ],
   "source": [
    "print(arr3[mask])"
   ]
  },
  {
   "cell_type": "markdown",
   "id": "05aaa03f",
   "metadata": {},
   "source": [
    "### Level 3\n",
    "### _Exercise 8_\n",
    "Carregareu qualsevol imatge (jpg, png ..) amb Matplotlib. "
   ]
  },
  {
   "cell_type": "code",
   "execution_count": 55,
   "id": "592c341f",
   "metadata": {},
   "outputs": [],
   "source": [
    "# importing required libraries\n",
    "import matplotlib.pyplot as plt\n",
    "import matplotlib.image as mpimg"
   ]
  },
  {
   "cell_type": "code",
   "execution_count": 57,
   "id": "e99f39ed",
   "metadata": {},
   "outputs": [],
   "source": [
    "# reading the image\n",
    "image = mpimg.imread('ITacademy.png')"
   ]
  },
  {
   "cell_type": "code",
   "execution_count": 58,
   "id": "fa0c3082",
   "metadata": {},
   "outputs": [
    {
     "data": {
      "text/plain": [
       "<matplotlib.image.AxesImage at 0x7fa3c35e8160>"
      ]
     },
     "execution_count": 58,
     "metadata": {},
     "output_type": "execute_result"
    },
    {
     "data": {
      "image/png": "[encoded data removed]",
      "text/plain": [
       "<Figure size 432x288 with 1 Axes>"
      ]
     },
     "metadata": {
      "needs_background": "light"
     },
     "output_type": "display_data"
    }
   ],
   "source": [
    "# displaying the image\n",
    "plt.imshow(image)"
   ]
  },
  {
   "cell_type": "code",
   "execution_count": 59,
   "id": "05b389f8",
   "metadata": {},
   "outputs": [
    {
     "name": "stdout",
     "output_type": "stream",
     "text": [
      "[[[0.8039216  0.7372549  0.7647059  1.        ]\n",
      "  [0.8039216  0.7372549  0.7647059  1.        ]\n",
      "  [0.8039216  0.7372549  0.7647059  1.        ]\n",
      "  ...\n",
      "  [0.8039216  0.7372549  0.7647059  1.        ]\n",
      "  [0.8039216  0.7372549  0.7647059  1.        ]\n",
      "  [0.8039216  0.7372549  0.7647059  1.        ]]\n",
      "\n",
      " [[0.8039216  0.7372549  0.7647059  1.        ]\n",
      "  [0.8039216  0.7372549  0.7647059  1.        ]\n",
      "  [0.8039216  0.7372549  0.7647059  1.        ]\n",
      "  ...\n",
      "  [0.8039216  0.7372549  0.7647059  1.        ]\n",
      "  [0.8039216  0.7372549  0.7647059  1.        ]\n",
      "  [0.8039216  0.7372549  0.7647059  1.        ]]\n",
      "\n",
      " [[0.8039216  0.7372549  0.7647059  1.        ]\n",
      "  [0.8039216  0.7372549  0.7647059  1.        ]\n",
      "  [0.8039216  0.7372549  0.7647059  1.        ]\n",
      "  ...\n",
      "  [0.8039216  0.7372549  0.7647059  1.        ]\n",
      "  [0.8039216  0.7372549  0.7647059  1.        ]\n",
      "  [0.8039216  0.7372549  0.7647059  1.        ]]\n",
      "\n",
      " ...\n",
      "\n",
      " [[0.81960785 0.7058824  0.7607843  1.        ]\n",
      "  [0.81960785 0.7058824  0.7607843  1.        ]\n",
      "  [0.81960785 0.7058824  0.7607843  1.        ]\n",
      "  ...\n",
      "  [0.81960785 0.7058824  0.7607843  1.        ]\n",
      "  [0.81960785 0.7058824  0.7607843  1.        ]\n",
      "  [0.81960785 0.7058824  0.7607843  1.        ]]\n",
      "\n",
      " [[0.81960785 0.7058824  0.7607843  1.        ]\n",
      "  [0.81960785 0.7058824  0.7607843  1.        ]\n",
      "  [0.81960785 0.7058824  0.7607843  1.        ]\n",
      "  ...\n",
      "  [0.81960785 0.7058824  0.7607843  1.        ]\n",
      "  [0.81960785 0.7058824  0.7607843  1.        ]\n",
      "  [0.81960785 0.7058824  0.7607843  1.        ]]\n",
      "\n",
      " [[0.81960785 0.7058824  0.7607843  1.        ]\n",
      "  [0.81960785 0.7058824  0.7607843  1.        ]\n",
      "  [0.81960785 0.7058824  0.7607843  1.        ]\n",
      "  ...\n",
      "  [0.81960785 0.7058824  0.7607843  1.        ]\n",
      "  [0.81960785 0.7058824  0.7607843  1.        ]\n",
      "  [0.81960785 0.7058824  0.7607843  1.        ]]]\n"
     ]
    }
   ],
   "source": [
    "# displaying the image as an array\n",
    "print(image)"
   ]
  },
  {
   "cell_type": "code",
   "execution_count": 60,
   "id": "22321868",
   "metadata": {},
   "outputs": [
    {
     "name": "stdout",
     "output_type": "stream",
     "text": [
      "(180, 648, 4)\n"
     ]
    }
   ],
   "source": [
    "# display the shape of the image: height, width, mode\n",
    "print(image.shape)"
   ]
  },
  {
   "cell_type": "code",
   "execution_count": 61,
   "id": "38ebc352",
   "metadata": {},
   "outputs": [],
   "source": [
    "# create copy of the image to modify the mode\n",
    "new_image = image.copy()"
   ]
  },
  {
   "cell_type": "code",
   "execution_count": 62,
   "id": "7eebd5fa",
   "metadata": {},
   "outputs": [
    {
     "data": {
      "text/plain": [
       "<matplotlib.image.AxesImage at 0x7fa3c369a1c0>"
      ]
     },
     "execution_count": 62,
     "metadata": {},
     "output_type": "execute_result"
    },
    {
     "data": {
      "image/png": "[encoded data removed]",
      "text/plain": [
       "<Figure size 432x288 with 1 Axes>"
      ]
     },
     "metadata": {
      "needs_background": "light"
     },
     "output_type": "display_data"
    }
   ],
   "source": [
    "#Show what happens when the Green G or Blue B channel is removed.\n",
    "# mode of the image green modified\n",
    "new_image[:, :, 1]=0\n",
    "plt.imshow(new_image)"
   ]
  },
  {
   "cell_type": "code",
   "execution_count": 63,
   "id": "b9e5f469",
   "metadata": {},
   "outputs": [],
   "source": [
    "#Use the mpimg.imsave () method of the imported library to save the modified images\n",
    "#and upload them to your repository on github.\n",
    "plt.imsave(\"new_image.jpg\", new_image)"
   ]
  }
 ],
 "metadata": {
  "kernelspec": {
   "display_name": "Python 3 (ipykernel)",
   "language": "python",
   "name": "python3"
  },
  "language_info": {
   "codemirror_mode": {
    "name": "ipython",
    "version": 3
   },
   "file_extension": ".py",
   "mimetype": "text/x-python",
   "name": "python",
   "nbconvert_exporter": "python",
   "pygments_lexer": "ipython3",
   "version": "3.9.12"
  },
  "varInspector": {
   "cols": {
    "lenName": 16,
    "lenType": 16,
    "lenVar": 40
   },
   "kernels_config": {
    "python": {
     "delete_cmd_postfix": "",
     "delete_cmd_prefix": "del ",
     "library": "var_list.py",
     "varRefreshCmd": "print(var_dic_list())"
    },
    "r": {
     "delete_cmd_postfix": ") ",
     "delete_cmd_prefix": "rm(",
     "library": "var_list.r",
     "varRefreshCmd": "cat(var_dic_list()) "
    }
   },
   "types_to_exclude": [
    "module",
    "function",
    "builtin_function_or_method",
    "instance",
    "_Feature"
   ],
   "window_display": false
  }
 },
 "nbformat": 4,
 "nbformat_minor": 5
}
